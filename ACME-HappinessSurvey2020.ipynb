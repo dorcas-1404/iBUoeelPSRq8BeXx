{
 "cells": [
  {
   "cell_type": "markdown",
   "id": "998eeaa6",
   "metadata": {},
   "source": [
    "**ACME-HappinessSurvey2020**\n",
    "*Classification Model*"
   ]
  },
  {
   "cell_type": "code",
   "execution_count": 1,
   "id": "f01bc37a",
   "metadata": {},
   "outputs": [],
   "source": [
    "#Import Libraries\n",
    "\n",
    "import numpy as np\n",
    "import pandas as pd\n",
    "import matplotlib.pyplot as plt\n",
    "%matplotlib inline"
   ]
  },
  {
   "cell_type": "code",
   "execution_count": 2,
   "id": "ebad1847",
   "metadata": {},
   "outputs": [
    {
     "data": {
      "text/html": [
       "<div>\n",
       "<style scoped>\n",
       "    .dataframe tbody tr th:only-of-type {\n",
       "        vertical-align: middle;\n",
       "    }\n",
       "\n",
       "    .dataframe tbody tr th {\n",
       "        vertical-align: top;\n",
       "    }\n",
       "\n",
       "    .dataframe thead th {\n",
       "        text-align: right;\n",
       "    }\n",
       "</style>\n",
       "<table border=\"1\" class=\"dataframe\">\n",
       "  <thead>\n",
       "    <tr style=\"text-align: right;\">\n",
       "      <th></th>\n",
       "      <th>target attribute</th>\n",
       "      <th>my order was delivered on time</th>\n",
       "      <th>contents of my order was as I expected</th>\n",
       "      <th>I ordered everything I wanted to order</th>\n",
       "      <th>I paid a good price for my order</th>\n",
       "      <th>I am satisfied with my courier</th>\n",
       "      <th>the app makes ordering easy for me</th>\n",
       "    </tr>\n",
       "  </thead>\n",
       "  <tbody>\n",
       "    <tr>\n",
       "      <th>0</th>\n",
       "      <td>0</td>\n",
       "      <td>3</td>\n",
       "      <td>3</td>\n",
       "      <td>3</td>\n",
       "      <td>4</td>\n",
       "      <td>2</td>\n",
       "      <td>4</td>\n",
       "    </tr>\n",
       "    <tr>\n",
       "      <th>1</th>\n",
       "      <td>0</td>\n",
       "      <td>3</td>\n",
       "      <td>2</td>\n",
       "      <td>3</td>\n",
       "      <td>5</td>\n",
       "      <td>4</td>\n",
       "      <td>3</td>\n",
       "    </tr>\n",
       "    <tr>\n",
       "      <th>2</th>\n",
       "      <td>1</td>\n",
       "      <td>5</td>\n",
       "      <td>3</td>\n",
       "      <td>3</td>\n",
       "      <td>3</td>\n",
       "      <td>3</td>\n",
       "      <td>5</td>\n",
       "    </tr>\n",
       "    <tr>\n",
       "      <th>3</th>\n",
       "      <td>0</td>\n",
       "      <td>5</td>\n",
       "      <td>4</td>\n",
       "      <td>3</td>\n",
       "      <td>3</td>\n",
       "      <td>3</td>\n",
       "      <td>5</td>\n",
       "    </tr>\n",
       "    <tr>\n",
       "      <th>4</th>\n",
       "      <td>0</td>\n",
       "      <td>5</td>\n",
       "      <td>4</td>\n",
       "      <td>3</td>\n",
       "      <td>3</td>\n",
       "      <td>3</td>\n",
       "      <td>5</td>\n",
       "    </tr>\n",
       "  </tbody>\n",
       "</table>\n",
       "</div>"
      ],
      "text/plain": [
       "   target attribute  my order was delivered on time  \\\n",
       "0                 0                               3   \n",
       "1                 0                               3   \n",
       "2                 1                               5   \n",
       "3                 0                               5   \n",
       "4                 0                               5   \n",
       "\n",
       "   contents of my order was as I expected  \\\n",
       "0                                       3   \n",
       "1                                       2   \n",
       "2                                       3   \n",
       "3                                       4   \n",
       "4                                       4   \n",
       "\n",
       "   I ordered everything I wanted to order  I paid a good price for my order  \\\n",
       "0                                       3                                 4   \n",
       "1                                       3                                 5   \n",
       "2                                       3                                 3   \n",
       "3                                       3                                 3   \n",
       "4                                       3                                 3   \n",
       "\n",
       "   I am satisfied with my courier  the app makes ordering easy for me  \n",
       "0                               2                                   4  \n",
       "1                               4                                   3  \n",
       "2                               3                                   5  \n",
       "3                               3                                   5  \n",
       "4                               3                                   5  "
      ]
     },
     "execution_count": 2,
     "metadata": {},
     "output_type": "execute_result"
    }
   ],
   "source": [
    "#Read in Dataset\n",
    "\n",
    "Dataset =pd.read_csv('C:\\\\Users\\\\Public\\\\ACME-HappinessSurvey2020.csv')\n",
    "Dataset.rename (columns = {'Y':'target attribute','X1':'my order was delivered on time', 'X2':'contents of my order was as I expected',\n",
    "                 'X3':'I ordered everything I wanted to order','X4':'I paid a good price for my order',\n",
    "                 'X5':'I am satisfied with my courier', 'X6':'the app makes ordering easy for me'}, inplace=True)\n",
    "Dataset.head(5)"
   ]
  },
  {
   "cell_type": "code",
   "execution_count": 3,
   "id": "02c26122",
   "metadata": {},
   "outputs": [
    {
     "data": {
      "text/plain": [
       "(126, 7)"
      ]
     },
     "execution_count": 3,
     "metadata": {},
     "output_type": "execute_result"
    }
   ],
   "source": [
    "Dataset.shape"
   ]
  },
  {
   "cell_type": "code",
   "execution_count": 17,
   "id": "ff829098",
   "metadata": {},
   "outputs": [
    {
     "data": {
      "text/html": [
       "<div>\n",
       "<style scoped>\n",
       "    .dataframe tbody tr th:only-of-type {\n",
       "        vertical-align: middle;\n",
       "    }\n",
       "\n",
       "    .dataframe tbody tr th {\n",
       "        vertical-align: top;\n",
       "    }\n",
       "\n",
       "    .dataframe thead th {\n",
       "        text-align: right;\n",
       "    }\n",
       "</style>\n",
       "<table border=\"1\" class=\"dataframe\">\n",
       "  <thead>\n",
       "    <tr style=\"text-align: right;\">\n",
       "      <th></th>\n",
       "      <th>target attribute</th>\n",
       "      <th>my order was delivered on time</th>\n",
       "      <th>contents of my order was as I expected</th>\n",
       "      <th>I ordered everything I wanted to order</th>\n",
       "      <th>I paid a good price for my order</th>\n",
       "      <th>I am satisfied with my courier</th>\n",
       "      <th>the app makes ordering easy for me</th>\n",
       "    </tr>\n",
       "  </thead>\n",
       "  <tbody>\n",
       "    <tr>\n",
       "      <th>target attribute</th>\n",
       "      <td>1.000000</td>\n",
       "      <td>0.280160</td>\n",
       "      <td>-0.024274</td>\n",
       "      <td>0.150838</td>\n",
       "      <td>0.064415</td>\n",
       "      <td>0.224522</td>\n",
       "      <td>0.167669</td>\n",
       "    </tr>\n",
       "    <tr>\n",
       "      <th>my order was delivered on time</th>\n",
       "      <td>0.280160</td>\n",
       "      <td>1.000000</td>\n",
       "      <td>0.059797</td>\n",
       "      <td>0.283358</td>\n",
       "      <td>0.087541</td>\n",
       "      <td>0.432772</td>\n",
       "      <td>0.411873</td>\n",
       "    </tr>\n",
       "    <tr>\n",
       "      <th>contents of my order was as I expected</th>\n",
       "      <td>-0.024274</td>\n",
       "      <td>0.059797</td>\n",
       "      <td>1.000000</td>\n",
       "      <td>0.184129</td>\n",
       "      <td>0.114838</td>\n",
       "      <td>0.039996</td>\n",
       "      <td>-0.062205</td>\n",
       "    </tr>\n",
       "    <tr>\n",
       "      <th>I ordered everything I wanted to order</th>\n",
       "      <td>0.150838</td>\n",
       "      <td>0.283358</td>\n",
       "      <td>0.184129</td>\n",
       "      <td>1.000000</td>\n",
       "      <td>0.302618</td>\n",
       "      <td>0.358397</td>\n",
       "      <td>0.203750</td>\n",
       "    </tr>\n",
       "    <tr>\n",
       "      <th>I paid a good price for my order</th>\n",
       "      <td>0.064415</td>\n",
       "      <td>0.087541</td>\n",
       "      <td>0.114838</td>\n",
       "      <td>0.302618</td>\n",
       "      <td>1.000000</td>\n",
       "      <td>0.293115</td>\n",
       "      <td>0.215888</td>\n",
       "    </tr>\n",
       "    <tr>\n",
       "      <th>I am satisfied with my courier</th>\n",
       "      <td>0.224522</td>\n",
       "      <td>0.432772</td>\n",
       "      <td>0.039996</td>\n",
       "      <td>0.358397</td>\n",
       "      <td>0.293115</td>\n",
       "      <td>1.000000</td>\n",
       "      <td>0.320195</td>\n",
       "    </tr>\n",
       "    <tr>\n",
       "      <th>the app makes ordering easy for me</th>\n",
       "      <td>0.167669</td>\n",
       "      <td>0.411873</td>\n",
       "      <td>-0.062205</td>\n",
       "      <td>0.203750</td>\n",
       "      <td>0.215888</td>\n",
       "      <td>0.320195</td>\n",
       "      <td>1.000000</td>\n",
       "    </tr>\n",
       "  </tbody>\n",
       "</table>\n",
       "</div>"
      ],
      "text/plain": [
       "                                        target attribute  \\\n",
       "target attribute                                1.000000   \n",
       "my order was delivered on time                  0.280160   \n",
       "contents of my order was as I expected         -0.024274   \n",
       "I ordered everything I wanted to order          0.150838   \n",
       "I paid a good price for my order                0.064415   \n",
       "I am satisfied with my courier                  0.224522   \n",
       "the app makes ordering easy for me              0.167669   \n",
       "\n",
       "                                        my order was delivered on time  \\\n",
       "target attribute                                              0.280160   \n",
       "my order was delivered on time                                1.000000   \n",
       "contents of my order was as I expected                        0.059797   \n",
       "I ordered everything I wanted to order                        0.283358   \n",
       "I paid a good price for my order                              0.087541   \n",
       "I am satisfied with my courier                                0.432772   \n",
       "the app makes ordering easy for me                            0.411873   \n",
       "\n",
       "                                        contents of my order was as I expected  \\\n",
       "target attribute                                                     -0.024274   \n",
       "my order was delivered on time                                        0.059797   \n",
       "contents of my order was as I expected                                1.000000   \n",
       "I ordered everything I wanted to order                                0.184129   \n",
       "I paid a good price for my order                                      0.114838   \n",
       "I am satisfied with my courier                                        0.039996   \n",
       "the app makes ordering easy for me                                   -0.062205   \n",
       "\n",
       "                                        I ordered everything I wanted to order  \\\n",
       "target attribute                                                      0.150838   \n",
       "my order was delivered on time                                        0.283358   \n",
       "contents of my order was as I expected                                0.184129   \n",
       "I ordered everything I wanted to order                                1.000000   \n",
       "I paid a good price for my order                                      0.302618   \n",
       "I am satisfied with my courier                                        0.358397   \n",
       "the app makes ordering easy for me                                    0.203750   \n",
       "\n",
       "                                        I paid a good price for my order  \\\n",
       "target attribute                                                0.064415   \n",
       "my order was delivered on time                                  0.087541   \n",
       "contents of my order was as I expected                          0.114838   \n",
       "I ordered everything I wanted to order                          0.302618   \n",
       "I paid a good price for my order                                1.000000   \n",
       "I am satisfied with my courier                                  0.293115   \n",
       "the app makes ordering easy for me                              0.215888   \n",
       "\n",
       "                                        I am satisfied with my courier  \\\n",
       "target attribute                                              0.224522   \n",
       "my order was delivered on time                                0.432772   \n",
       "contents of my order was as I expected                        0.039996   \n",
       "I ordered everything I wanted to order                        0.358397   \n",
       "I paid a good price for my order                              0.293115   \n",
       "I am satisfied with my courier                                1.000000   \n",
       "the app makes ordering easy for me                            0.320195   \n",
       "\n",
       "                                        the app makes ordering easy for me  \n",
       "target attribute                                                  0.167669  \n",
       "my order was delivered on time                                    0.411873  \n",
       "contents of my order was as I expected                           -0.062205  \n",
       "I ordered everything I wanted to order                            0.203750  \n",
       "I paid a good price for my order                                  0.215888  \n",
       "I am satisfied with my courier                                    0.320195  \n",
       "the app makes ordering easy for me                                1.000000  "
      ]
     },
     "execution_count": 17,
     "metadata": {},
     "output_type": "execute_result"
    }
   ],
   "source": [
    "# Correlation (For selecting the most correlated feature to the target)\n",
    "\n",
    "Dataset.corr()"
   ]
  },
  {
   "cell_type": "code",
   "execution_count": 18,
   "id": "aae88f90",
   "metadata": {},
   "outputs": [
    {
     "data": {
      "image/png": "[encoded data removed]",
      "text/plain": [
       "<Figure size 640x480 with 2 Axes>"
      ]
     },
     "metadata": {},
     "output_type": "display_data"
    }
   ],
   "source": [
    "import seaborn as sns\n",
    "cor = Dataset.corr()\n",
    "sns.heatmap(cor, annot=True, cmap=plt.cm.binary)\n",
    "plt.show()"
   ]
  },
  {
   "cell_type": "code",
   "execution_count": 19,
   "id": "c8a0c051",
   "metadata": {
    "scrolled": true
   },
   "outputs": [
    {
     "name": "stdout",
     "output_type": "stream",
     "text": [
      "target attribute                          1.000000\n",
      "my order was delivered on time            0.280160\n",
      "I am satisfied with my courier            0.224522\n",
      "the app makes ordering easy for me        0.167669\n",
      "I ordered everything I wanted to order    0.150838\n",
      "I paid a good price for my order          0.064415\n",
      "contents of my order was as I expected   -0.024274\n",
      "Name: target attribute, dtype: float64\n"
     ]
    }
   ],
   "source": [
    "corr_matrix2 = Dataset.corr()\n",
    "print(corr_matrix2['target attribute'].sort_values(ascending=False))"
   ]
  },
  {
   "cell_type": "code",
   "execution_count": 20,
   "id": "263b7773",
   "metadata": {
    "scrolled": true
   },
   "outputs": [
    {
     "data": {
      "text/html": [
       "<div>\n",
       "<style scoped>\n",
       "    .dataframe tbody tr th:only-of-type {\n",
       "        vertical-align: middle;\n",
       "    }\n",
       "\n",
       "    .dataframe tbody tr th {\n",
       "        vertical-align: top;\n",
       "    }\n",
       "\n",
       "    .dataframe thead th {\n",
       "        text-align: right;\n",
       "    }\n",
       "</style>\n",
       "<table border=\"1\" class=\"dataframe\">\n",
       "  <thead>\n",
       "    <tr style=\"text-align: right;\">\n",
       "      <th></th>\n",
       "      <th>target attribute</th>\n",
       "      <th>my order was delivered on time</th>\n",
       "      <th>I ordered everything I wanted to order</th>\n",
       "      <th>I am satisfied with my courier</th>\n",
       "      <th>the app makes ordering easy for me</th>\n",
       "    </tr>\n",
       "  </thead>\n",
       "  <tbody>\n",
       "    <tr>\n",
       "      <th>0</th>\n",
       "      <td>0</td>\n",
       "      <td>3</td>\n",
       "      <td>3</td>\n",
       "      <td>2</td>\n",
       "      <td>4</td>\n",
       "    </tr>\n",
       "    <tr>\n",
       "      <th>1</th>\n",
       "      <td>0</td>\n",
       "      <td>3</td>\n",
       "      <td>3</td>\n",
       "      <td>4</td>\n",
       "      <td>3</td>\n",
       "    </tr>\n",
       "    <tr>\n",
       "      <th>2</th>\n",
       "      <td>1</td>\n",
       "      <td>5</td>\n",
       "      <td>3</td>\n",
       "      <td>3</td>\n",
       "      <td>5</td>\n",
       "    </tr>\n",
       "    <tr>\n",
       "      <th>3</th>\n",
       "      <td>0</td>\n",
       "      <td>5</td>\n",
       "      <td>3</td>\n",
       "      <td>3</td>\n",
       "      <td>5</td>\n",
       "    </tr>\n",
       "    <tr>\n",
       "      <th>4</th>\n",
       "      <td>0</td>\n",
       "      <td>5</td>\n",
       "      <td>3</td>\n",
       "      <td>3</td>\n",
       "      <td>5</td>\n",
       "    </tr>\n",
       "  </tbody>\n",
       "</table>\n",
       "</div>"
      ],
      "text/plain": [
       "   target attribute  my order was delivered on time  \\\n",
       "0                 0                               3   \n",
       "1                 0                               3   \n",
       "2                 1                               5   \n",
       "3                 0                               5   \n",
       "4                 0                               5   \n",
       "\n",
       "   I ordered everything I wanted to order  I am satisfied with my courier  \\\n",
       "0                                       3                               2   \n",
       "1                                       3                               4   \n",
       "2                                       3                               3   \n",
       "3                                       3                               3   \n",
       "4                                       3                               3   \n",
       "\n",
       "   the app makes ordering easy for me  \n",
       "0                                   4  \n",
       "1                                   3  \n",
       "2                                   5  \n",
       "3                                   5  \n",
       "4                                   5  "
      ]
     },
     "execution_count": 20,
     "metadata": {},
     "output_type": "execute_result"
    }
   ],
   "source": [
    "Dataset = Dataset.drop(['I paid a good price for my order','contents of my order was as I expected'], axis=1)\n",
    "Dataset.head()"
   ]
  },
  {
   "cell_type": "markdown",
   "id": "1ffad17f",
   "metadata": {},
   "source": [
    "# function to select all the highly correlated features\n",
    "\n",
    "def correlation (dataset, threshold):\n",
    "    col_corr = set() # set for all the correlated features\n",
    "    corr_matrix = dataset.corr()\n",
    "    for i in range (len (corr_matrix.columns)):\n",
    "        for j in range(i):\n",
    "            if abs(corr_matrix.iloc[i,j]) > threshold: # for abs coeff values\n",
    "                colname = corr_matrix.columns[i] # gets name of column\n",
    "                col_corr.add(colname)\n",
    "    return col_corr"
   ]
  },
  {
   "cell_type": "markdown",
   "id": "731dcb2b",
   "metadata": {},
   "source": [
    "#corr_features = correlation (Dataset, 0.4)\n",
    "#corr_features"
   ]
  },
  {
   "cell_type": "code",
   "execution_count": 21,
   "id": "893a06a8",
   "metadata": {},
   "outputs": [
    {
     "data": {
      "text/plain": [
       "0      0\n",
       "1      0\n",
       "2      1\n",
       "3      0\n",
       "4      0\n",
       "      ..\n",
       "121    1\n",
       "122    1\n",
       "123    1\n",
       "124    0\n",
       "125    0\n",
       "Name: target attribute, Length: 126, dtype: int64"
      ]
     },
     "execution_count": 21,
     "metadata": {},
     "output_type": "execute_result"
    }
   ],
   "source": [
    "\n",
    "\n",
    "y = Dataset ['target attribute']\n",
    "y\n",
    "\n"
   ]
  },
  {
   "cell_type": "code",
   "execution_count": 22,
   "id": "df0ffb8e",
   "metadata": {
    "scrolled": false
   },
   "outputs": [
    {
     "data": {
      "text/html": [
       "<div>\n",
       "<style scoped>\n",
       "    .dataframe tbody tr th:only-of-type {\n",
       "        vertical-align: middle;\n",
       "    }\n",
       "\n",
       "    .dataframe tbody tr th {\n",
       "        vertical-align: top;\n",
       "    }\n",
       "\n",
       "    .dataframe thead th {\n",
       "        text-align: right;\n",
       "    }\n",
       "</style>\n",
       "<table border=\"1\" class=\"dataframe\">\n",
       "  <thead>\n",
       "    <tr style=\"text-align: right;\">\n",
       "      <th></th>\n",
       "      <th>my order was delivered on time</th>\n",
       "      <th>I ordered everything I wanted to order</th>\n",
       "      <th>I am satisfied with my courier</th>\n",
       "      <th>the app makes ordering easy for me</th>\n",
       "    </tr>\n",
       "  </thead>\n",
       "  <tbody>\n",
       "    <tr>\n",
       "      <th>0</th>\n",
       "      <td>3</td>\n",
       "      <td>3</td>\n",
       "      <td>2</td>\n",
       "      <td>4</td>\n",
       "    </tr>\n",
       "    <tr>\n",
       "      <th>1</th>\n",
       "      <td>3</td>\n",
       "      <td>3</td>\n",
       "      <td>4</td>\n",
       "      <td>3</td>\n",
       "    </tr>\n",
       "    <tr>\n",
       "      <th>2</th>\n",
       "      <td>5</td>\n",
       "      <td>3</td>\n",
       "      <td>3</td>\n",
       "      <td>5</td>\n",
       "    </tr>\n",
       "    <tr>\n",
       "      <th>3</th>\n",
       "      <td>5</td>\n",
       "      <td>3</td>\n",
       "      <td>3</td>\n",
       "      <td>5</td>\n",
       "    </tr>\n",
       "    <tr>\n",
       "      <th>4</th>\n",
       "      <td>5</td>\n",
       "      <td>3</td>\n",
       "      <td>3</td>\n",
       "      <td>5</td>\n",
       "    </tr>\n",
       "    <tr>\n",
       "      <th>...</th>\n",
       "      <td>...</td>\n",
       "      <td>...</td>\n",
       "      <td>...</td>\n",
       "      <td>...</td>\n",
       "    </tr>\n",
       "    <tr>\n",
       "      <th>121</th>\n",
       "      <td>5</td>\n",
       "      <td>3</td>\n",
       "      <td>4</td>\n",
       "      <td>3</td>\n",
       "    </tr>\n",
       "    <tr>\n",
       "      <th>122</th>\n",
       "      <td>5</td>\n",
       "      <td>3</td>\n",
       "      <td>2</td>\n",
       "      <td>5</td>\n",
       "    </tr>\n",
       "    <tr>\n",
       "      <th>123</th>\n",
       "      <td>5</td>\n",
       "      <td>3</td>\n",
       "      <td>4</td>\n",
       "      <td>5</td>\n",
       "    </tr>\n",
       "    <tr>\n",
       "      <th>124</th>\n",
       "      <td>4</td>\n",
       "      <td>3</td>\n",
       "      <td>4</td>\n",
       "      <td>5</td>\n",
       "    </tr>\n",
       "    <tr>\n",
       "      <th>125</th>\n",
       "      <td>5</td>\n",
       "      <td>2</td>\n",
       "      <td>5</td>\n",
       "      <td>5</td>\n",
       "    </tr>\n",
       "  </tbody>\n",
       "</table>\n",
       "<p>126 rows × 4 columns</p>\n",
       "</div>"
      ],
      "text/plain": [
       "     my order was delivered on time  I ordered everything I wanted to order  \\\n",
       "0                                 3                                       3   \n",
       "1                                 3                                       3   \n",
       "2                                 5                                       3   \n",
       "3                                 5                                       3   \n",
       "4                                 5                                       3   \n",
       "..                              ...                                     ...   \n",
       "121                               5                                       3   \n",
       "122                               5                                       3   \n",
       "123                               5                                       3   \n",
       "124                               4                                       3   \n",
       "125                               5                                       2   \n",
       "\n",
       "     I am satisfied with my courier  the app makes ordering easy for me  \n",
       "0                                 2                                   4  \n",
       "1                                 4                                   3  \n",
       "2                                 3                                   5  \n",
       "3                                 3                                   5  \n",
       "4                                 3                                   5  \n",
       "..                              ...                                 ...  \n",
       "121                               4                                   3  \n",
       "122                               2                                   5  \n",
       "123                               4                                   5  \n",
       "124                               4                                   5  \n",
       "125                               5                                   5  \n",
       "\n",
       "[126 rows x 4 columns]"
      ]
     },
     "execution_count": 22,
     "metadata": {},
     "output_type": "execute_result"
    }
   ],
   "source": [
    "X = Dataset.drop('target attribute', axis=1)\n",
    "X"
   ]
  },
  {
   "cell_type": "code",
   "execution_count": 23,
   "id": "d177867f",
   "metadata": {},
   "outputs": [
    {
     "data": {
      "text/plain": [
       "array([[-1.67332005, -0.30364219, -1.44416589, -0.31506076],\n",
       "       [-1.67332005, -0.30364219,  0.30549663, -1.55561249],\n",
       "       [ 0.83666003, -0.30364219, -0.56933463,  0.92549097],\n",
       "       [ 0.83666003, -0.30364219, -0.56933463,  0.92549097],\n",
       "       [ 0.83666003, -0.30364219, -0.56933463,  0.92549097],\n",
       "       [ 0.83666003, -0.30364219,  1.18032789,  0.92549097],\n",
       "       [-1.67332005, -1.28464005, -2.31899715, -1.55561249],\n",
       "       [ 0.83666003,  0.67735566,  0.30549663,  0.92549097],\n",
       "       [-0.41833001,  0.67735566,  0.30549663, -0.31506076],\n",
       "       [-0.41833001,  0.67735566,  1.18032789,  0.92549097],\n",
       "       [-1.67332005, -0.30364219, -1.44416589, -1.55561249],\n",
       "       [-0.41833001, -0.30364219,  0.30549663, -0.31506076],\n",
       "       [ 0.83666003,  0.67735566,  1.18032789,  0.92549097],\n",
       "       [-0.41833001,  0.67735566,  0.30549663, -1.55561249],\n",
       "       [-0.41833001, -0.30364219,  0.30549663, -1.55561249],\n",
       "       [-1.67332005,  0.67735566,  0.30549663, -0.31506076],\n",
       "       [ 0.83666003,  0.67735566,  0.30549663,  0.92549097],\n",
       "       [ 0.83666003,  0.67735566,  0.30549663,  0.92549097],\n",
       "       [ 0.83666003, -1.28464005,  0.30549663,  0.92549097],\n",
       "       [-0.41833001,  0.67735566,  0.30549663, -0.31506076],\n",
       "       [-0.41833001, -0.30364219,  0.30549663, -0.31506076],\n",
       "       [-0.41833001,  1.65835352,  1.18032789, -0.31506076],\n",
       "       [-0.41833001,  1.65835352,  1.18032789, -0.31506076],\n",
       "       [ 0.83666003, -1.28464005, -1.44416589, -0.31506076],\n",
       "       [-0.41833001, -0.30364219, -0.56933463, -0.31506076],\n",
       "       [-1.67332005, -0.30364219, -1.44416589, -1.55561249],\n",
       "       [-1.67332005, -0.30364219,  1.18032789,  0.92549097],\n",
       "       [-1.67332005, -2.2656379 , -0.56933463, -0.31506076],\n",
       "       [-1.67332005, -2.2656379 , -0.56933463, -0.31506076],\n",
       "       [ 0.83666003, -0.30364219,  1.18032789, -1.55561249],\n",
       "       [ 0.83666003, -0.30364219,  1.18032789, -1.55561249],\n",
       "       [-0.41833001, -0.30364219,  0.30549663,  0.92549097],\n",
       "       [-1.67332005,  0.67735566,  0.30549663,  0.92549097],\n",
       "       [-1.67332005,  0.67735566,  0.30549663,  0.92549097],\n",
       "       [-0.41833001, -0.30364219, -2.31899715, -0.31506076],\n",
       "       [-0.41833001, -0.30364219,  0.30549663, -0.31506076],\n",
       "       [ 0.83666003,  0.67735566,  0.30549663,  0.92549097],\n",
       "       [ 0.83666003,  0.67735566,  0.30549663,  0.92549097],\n",
       "       [ 0.83666003, -0.30364219, -1.44416589,  0.92549097],\n",
       "       [-0.41833001, -0.30364219, -1.44416589, -0.31506076],\n",
       "       [ 0.83666003, -0.30364219, -0.56933463, -1.55561249],\n",
       "       [-0.41833001,  0.67735566, -1.44416589, -0.31506076],\n",
       "       [ 0.83666003, -0.30364219,  0.30549663,  0.92549097],\n",
       "       [-0.41833001, -0.30364219, -1.44416589, -0.31506076],\n",
       "       [-1.67332005, -1.28464005, -0.56933463,  0.92549097],\n",
       "       [ 0.83666003,  0.67735566,  0.30549663,  0.92549097],\n",
       "       [ 0.83666003, -0.30364219,  0.30549663,  0.92549097],\n",
       "       [-4.18330013, -2.2656379 , -2.31899715, -0.31506076],\n",
       "       [ 0.83666003,  1.65835352,  1.18032789, -1.55561249],\n",
       "       [ 0.83666003, -0.30364219,  0.30549663, -0.31506076],\n",
       "       [ 0.83666003, -0.30364219,  0.30549663, -0.31506076],\n",
       "       [ 0.83666003, -0.30364219,  0.30549663, -0.31506076],\n",
       "       [ 0.83666003,  0.67735566,  0.30549663,  0.92549097],\n",
       "       [ 0.83666003,  0.67735566,  0.30549663,  0.92549097],\n",
       "       [-0.41833001, -1.28464005, -0.56933463, -0.31506076],\n",
       "       [-0.41833001, -1.28464005, -0.56933463, -0.31506076],\n",
       "       [ 0.83666003, -2.2656379 , -0.56933463,  0.92549097],\n",
       "       [-0.41833001,  0.67735566, -0.56933463, -0.31506076],\n",
       "       [ 0.83666003,  1.65835352,  0.30549663,  0.92549097],\n",
       "       [ 0.83666003,  0.67735566, -1.44416589, -0.31506076],\n",
       "       [-0.41833001, -0.30364219, -0.56933463,  0.92549097],\n",
       "       [ 0.83666003,  0.67735566,  1.18032789,  0.92549097],\n",
       "       [ 0.83666003,  0.67735566,  1.18032789,  0.92549097],\n",
       "       [ 0.83666003,  1.65835352,  1.18032789,  0.92549097],\n",
       "       [-0.41833001, -0.30364219,  0.30549663, -0.31506076],\n",
       "       [-0.41833001, -0.30364219,  0.30549663, -0.31506076],\n",
       "       [-1.67332005, -0.30364219,  0.30549663, -1.55561249],\n",
       "       [-0.41833001, -2.2656379 ,  0.30549663, -0.31506076],\n",
       "       [ 0.83666003,  1.65835352,  1.18032789,  0.92549097],\n",
       "       [ 0.83666003,  1.65835352,  1.18032789,  0.92549097],\n",
       "       [-0.41833001, -0.30364219, -0.56933463, -0.31506076],\n",
       "       [-0.41833001,  1.65835352, -2.31899715, -1.55561249],\n",
       "       [-0.41833001, -0.30364219, -1.44416589, -0.31506076],\n",
       "       [ 0.83666003, -0.30364219, -1.44416589,  0.92549097],\n",
       "       [ 0.83666003,  1.65835352,  1.18032789,  0.92549097],\n",
       "       [-1.67332005, -0.30364219,  0.30549663, -0.31506076],\n",
       "       [-0.41833001, -1.28464005, -1.44416589, -0.31506076],\n",
       "       [ 0.83666003, -0.30364219,  1.18032789,  0.92549097],\n",
       "       [ 0.83666003, -0.30364219, -1.44416589,  0.92549097],\n",
       "       [ 0.83666003,  1.65835352,  1.18032789,  0.92549097],\n",
       "       [-0.41833001, -1.28464005,  0.30549663, -0.31506076],\n",
       "       [-1.67332005, -0.30364219, -0.56933463, -0.31506076],\n",
       "       [-0.41833001,  0.67735566,  0.30549663, -0.31506076],\n",
       "       [ 0.83666003, -1.28464005,  0.30549663, -0.31506076],\n",
       "       [-0.41833001,  0.67735566, -1.44416589, -0.31506076],\n",
       "       [ 0.83666003, -0.30364219,  0.30549663,  0.92549097],\n",
       "       [ 0.83666003, -0.30364219,  1.18032789,  0.92549097],\n",
       "       [-0.41833001, -0.30364219,  0.30549663, -1.55561249],\n",
       "       [ 0.83666003, -1.28464005, -0.56933463,  0.92549097],\n",
       "       [-1.67332005, -2.2656379 , -1.44416589, -1.55561249],\n",
       "       [-1.67332005,  1.65835352,  1.18032789, -0.31506076],\n",
       "       [ 0.83666003, -0.30364219,  1.18032789,  0.92549097],\n",
       "       [ 0.83666003,  1.65835352,  1.18032789, -0.31506076],\n",
       "       [ 0.83666003,  0.67735566,  0.30549663,  0.92549097],\n",
       "       [-1.67332005, -0.30364219, -2.31899715, -2.79616421],\n",
       "       [ 0.83666003,  1.65835352,  1.18032789,  0.92549097],\n",
       "       [-0.41833001, -0.30364219, -0.56933463, -1.55561249],\n",
       "       [ 0.83666003,  1.65835352,  1.18032789, -0.31506076],\n",
       "       [-0.41833001, -0.30364219, -0.56933463, -1.55561249],\n",
       "       [-1.67332005, -1.28464005,  0.30549663, -0.31506076],\n",
       "       [ 0.83666003, -1.28464005,  1.18032789,  0.92549097],\n",
       "       [ 0.83666003,  0.67735566,  0.30549663, -1.55561249],\n",
       "       [ 0.83666003, -0.30364219, -0.56933463,  0.92549097],\n",
       "       [-0.41833001,  0.67735566, -0.56933463, -0.31506076],\n",
       "       [-0.41833001, -0.30364219, -0.56933463,  0.92549097],\n",
       "       [ 0.83666003,  0.67735566,  1.18032789,  0.92549097],\n",
       "       [ 0.83666003,  1.65835352,  1.18032789,  0.92549097],\n",
       "       [-0.41833001,  0.67735566,  0.30549663, -0.31506076],\n",
       "       [ 0.83666003,  0.67735566,  1.18032789,  0.92549097],\n",
       "       [ 0.83666003,  0.67735566,  0.30549663, -0.31506076],\n",
       "       [ 0.83666003, -0.30364219,  0.30549663,  0.92549097],\n",
       "       [ 0.83666003, -0.30364219,  0.30549663, -0.31506076],\n",
       "       [-0.41833001, -0.30364219, -0.56933463, -0.31506076],\n",
       "       [ 0.83666003,  0.67735566,  0.30549663,  0.92549097],\n",
       "       [ 0.83666003, -1.28464005,  0.30549663,  0.92549097],\n",
       "       [ 0.83666003,  1.65835352,  1.18032789,  0.92549097],\n",
       "       [-1.67332005,  0.67735566, -2.31899715, -1.55561249],\n",
       "       [ 0.83666003,  1.65835352,  1.18032789,  0.92549097],\n",
       "       [-0.41833001, -0.30364219,  0.30549663, -0.31506076],\n",
       "       [ 0.83666003, -2.2656379 ,  1.18032789, -4.03671594],\n",
       "       [-0.41833001,  0.67735566, -2.31899715, -1.55561249],\n",
       "       [ 0.83666003, -0.30364219,  0.30549663, -1.55561249],\n",
       "       [ 0.83666003, -0.30364219, -1.44416589,  0.92549097],\n",
       "       [ 0.83666003, -0.30364219,  0.30549663,  0.92549097],\n",
       "       [-0.41833001, -0.30364219,  0.30549663,  0.92549097],\n",
       "       [ 0.83666003, -1.28464005,  1.18032789,  0.92549097]])"
      ]
     },
     "execution_count": 23,
     "metadata": {},
     "output_type": "execute_result"
    }
   ],
   "source": [
    "from sklearn.preprocessing import StandardScaler\n",
    "scalar = StandardScaler()\n",
    "Scaled_data = scalar.fit_transform(X)\n",
    "Scaled_data"
   ]
  },
  {
   "cell_type": "code",
   "execution_count": null,
   "id": "5f12bea4",
   "metadata": {},
   "outputs": [],
   "source": [
    "#Import the models\n",
    "\n",
    "from sklearn.model_selection import train_test_split\n",
    "from sklearn.metrics import classification_report, confusion_matrix, accuracy_score \n"
   ]
  },
  {
   "cell_type": "code",
   "execution_count": 24,
   "id": "8bac34c2",
   "metadata": {},
   "outputs": [],
   "source": [
    "X_train, X_test, y_train, y_test = train_test_split(Scaled_data, y, test_size=0.2, random_state= 42)"
   ]
  },
  {
   "cell_type": "code",
   "execution_count": null,
   "id": "4069ebcc",
   "metadata": {
    "scrolled": true
   },
   "outputs": [],
   "source": []
  },
  {
   "cell_type": "code",
   "execution_count": null,
   "id": "4131da17",
   "metadata": {},
   "outputs": [],
   "source": []
  },
  {
   "cell_type": "code",
   "execution_count": 25,
   "id": "187e9d07",
   "metadata": {},
   "outputs": [
    {
     "data": {
      "text/plain": [
       "LogisticRegression()"
      ]
     },
     "execution_count": 25,
     "metadata": {},
     "output_type": "execute_result"
    }
   ],
   "source": [
    "from sklearn.linear_model import LogisticRegression\n",
    "lr = LogisticRegression()\n",
    "lr.fit(X_train, y_train)"
   ]
  },
  {
   "cell_type": "code",
   "execution_count": 26,
   "id": "d29ec659",
   "metadata": {},
   "outputs": [
    {
     "data": {
      "text/plain": [
       "SVC()"
      ]
     },
     "execution_count": 26,
     "metadata": {},
     "output_type": "execute_result"
    }
   ],
   "source": [
    "from sklearn.svm import SVC\n",
    "svc = SVC()\n",
    "svc.fit(X_train, y_train)"
   ]
  },
  {
   "cell_type": "code",
   "execution_count": 27,
   "id": "6cec4ae9",
   "metadata": {},
   "outputs": [],
   "source": [
    "y_pred1 = lr.predict(X_test)\n",
    "y_pred2 = svc.predict(X_test)"
   ]
  },
  {
   "cell_type": "code",
   "execution_count": 28,
   "id": "5029f65f",
   "metadata": {},
   "outputs": [
    {
     "data": {
      "text/plain": [
       "array([[ 4, 11],\n",
       "       [ 3,  8]], dtype=int64)"
      ]
     },
     "execution_count": 28,
     "metadata": {},
     "output_type": "execute_result"
    }
   ],
   "source": [
    "confusion_matrix (y_test, y_pred1)"
   ]
  },
  {
   "cell_type": "code",
   "execution_count": 29,
   "id": "b9d3b21d",
   "metadata": {},
   "outputs": [
    {
     "data": {
      "text/plain": [
       "array([[ 4, 11],\n",
       "       [ 1, 10]], dtype=int64)"
      ]
     },
     "execution_count": 29,
     "metadata": {},
     "output_type": "execute_result"
    }
   ],
   "source": [
    "confusion_matrix (y_test, y_pred2)"
   ]
  },
  {
   "cell_type": "code",
   "execution_count": 30,
   "id": "8d58bb98",
   "metadata": {},
   "outputs": [
    {
     "data": {
      "text/plain": [
       "0.46153846153846156"
      ]
     },
     "execution_count": 30,
     "metadata": {},
     "output_type": "execute_result"
    }
   ],
   "source": [
    "accuracy_score (y_test, y_pred1)"
   ]
  },
  {
   "cell_type": "code",
   "execution_count": 31,
   "id": "00f532c5",
   "metadata": {},
   "outputs": [
    {
     "data": {
      "text/plain": [
       "0.5384615384615384"
      ]
     },
     "execution_count": 31,
     "metadata": {},
     "output_type": "execute_result"
    }
   ],
   "source": [
    "accuracy_score (y_test, y_pred2)"
   ]
  },
  {
   "cell_type": "code",
   "execution_count": null,
   "id": "6ea5c39a",
   "metadata": {},
   "outputs": [],
   "source": []
  },
  {
   "cell_type": "code",
   "execution_count": null,
   "id": "cad7af4e",
   "metadata": {},
   "outputs": [],
   "source": []
  }
 ],
 "metadata": {
  "kernelspec": {
   "display_name": "Python 3 (ipykernel)",
   "language": "python",
   "name": "python3"
  },
  "language_info": {
   "codemirror_mode": {
    "name": "ipython",
    "version": 3
   },
   "file_extension": ".py",
   "mimetype": "text/x-python",
   "name": "python",
   "nbconvert_exporter": "python",
   "pygments_lexer": "ipython3",
   "version": "3.9.13"
  }
 },
 "nbformat": 4,
 "nbformat_minor": 5
}
